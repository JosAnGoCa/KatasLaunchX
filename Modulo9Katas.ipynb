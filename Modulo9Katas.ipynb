{
 "cells": [
  {
   "cell_type": "markdown",
   "metadata": {},
   "source": [
    "## Ejericico 1"
   ]
  },
  {
   "cell_type": "code",
   "execution_count": 1,
   "metadata": {},
   "outputs": [],
   "source": [
    "def lectura(data1 = 0, data2 = 0, data3 = 0):\n",
    "    level = data1 + data2 + data3\n",
    "    average = level / 3\n",
    "    return average"
   ]
  },
  {
   "cell_type": "code",
   "execution_count": 2,
   "metadata": {},
   "outputs": [
    {
     "name": "stdout",
     "output_type": "stream",
     "text": [
      "26.333333333333332\n"
     ]
    }
   ],
   "source": [
    "tanque1 = 32\n",
    "tanque2 = 24\n",
    "tanque3 = 23\n",
    "\n",
    "print(lectura(tanque1, tanque2, tanque3))"
   ]
  },
  {
   "cell_type": "code",
   "execution_count": 4,
   "metadata": {},
   "outputs": [],
   "source": [
    "def promedio(total, cantidad):\n",
    "    return total / cantidad"
   ]
  },
  {
   "cell_type": "code",
   "execution_count": 5,
   "metadata": {},
   "outputs": [],
   "source": [
    "def lectura(data1 = 0, data2 = 0, data3 = 0):\n",
    "    level = data1 + data2 + data3\n",
    "    average = promedio(level, 3)\n",
    "    return average"
   ]
  },
  {
   "cell_type": "code",
   "execution_count": 6,
   "metadata": {},
   "outputs": [
    {
     "name": "stdout",
     "output_type": "stream",
     "text": [
      "26.333333333333332\n"
     ]
    }
   ],
   "source": [
    "print(lectura(tanque1, tanque2, tanque3))"
   ]
  },
  {
   "cell_type": "markdown",
   "metadata": {},
   "source": [
    "## Ejercicio 2"
   ]
  },
  {
   "cell_type": "code",
   "execution_count": 10,
   "metadata": {},
   "outputs": [
    {
     "name": "stdout",
     "output_type": "stream",
     "text": [
      "Mision a Moon\n",
      "Tiempo total de viaje: 65 minutes\n",
      "Combustible total: 500000 \n"
     ]
    }
   ],
   "source": [
    "def informe(horaPreLanzamiento, tiempoDeVuelo, destino, tanqueExterno, tanqueInterno):\n",
    "    return f\"\"\"Mision a {destino}\n",
    "Tiempo total de viaje: {horaPreLanzamiento + tiempoDeVuelo} minutes\n",
    "Combustible total: {tanqueExterno + tanqueInterno} \"\"\"\n",
    "\n",
    "print(informe(14, 51, \"Moon\", 200000, 300000))"
   ]
  },
  {
   "cell_type": "code",
   "execution_count": 12,
   "metadata": {},
   "outputs": [
    {
     "name": "stdout",
     "output_type": "stream",
     "text": [
      "Mision a Moon\n",
      "Tiempo total de viaje: 76 minutes\n",
      "Combustible total: 500000\n"
     ]
    }
   ],
   "source": [
    "def informe(destino, *tiempoDeVuelo, **combustibleEnTanque):\n",
    "    return f\"\"\"Mision a {destino}\n",
    "Tiempo total de viaje: {sum(tiempoDeVuelo)} minutes\n",
    "Combustible total: {sum(combustibleEnTanque.values())}\"\"\"\n",
    "\n",
    "\n",
    "print(informe(\"Moon\", 10, 15, 51, main=300000, external=200000))"
   ]
  },
  {
   "cell_type": "code",
   "execution_count": 18,
   "metadata": {},
   "outputs": [
    {
     "name": "stdout",
     "output_type": "stream",
     "text": [
      "Mision a Moon\n",
      "Tiempo total de viaje: 76 minutes\n",
      "Combustible total: 500000\n",
      "main tiene: 300000\n",
      "external tiene: 200000\n",
      "\n"
     ]
    }
   ],
   "source": [
    "def informe(destino, *tiempoDeVuelo, **combustibleEnTanque):\n",
    "    reporte = f\"\"\"Mision a {destino}\n",
    "Tiempo total de viaje: {sum(tiempoDeVuelo)} minutes\n",
    "Combustible total: {sum(combustibleEnTanque.values())}\\n\"\"\"\n",
    "\n",
    "    for tanque, combustiblePorTanque in combustibleEnTanque.items():\n",
    "        reporte += f'{tanque} tiene: {combustiblePorTanque}\\n'\n",
    "\n",
    "    return reporte\n",
    "\n",
    "print(informe(\"Moon\", 10, 15, 51, main=300000, external=200000))"
   ]
  }
 ],
 "metadata": {
  "interpreter": {
   "hash": "a34023690168d5cee01f75b3409d5ade6dd654c2a39a8d6baf6befa91529da3d"
  },
  "kernelspec": {
   "display_name": "Python 3.10.2 64-bit (windows store)",
   "language": "python",
   "name": "python3"
  },
  "language_info": {
   "codemirror_mode": {
    "name": "ipython",
    "version": 3
   },
   "file_extension": ".py",
   "mimetype": "text/x-python",
   "name": "python",
   "nbconvert_exporter": "python",
   "pygments_lexer": "ipython3",
   "version": "3.10.2"
  },
  "orig_nbformat": 4
 },
 "nbformat": 4,
 "nbformat_minor": 2
}
